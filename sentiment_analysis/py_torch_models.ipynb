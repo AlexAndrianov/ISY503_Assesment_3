{
 "cells": [
  {
   "cell_type": "code",
   "execution_count": 1,
   "id": "89d7bb22-5cee-4020-8064-bbd9e533dc58",
   "metadata": {},
   "outputs": [
    {
     "name": "stdout",
     "output_type": "stream",
     "text": [
      "                                                text  label\n",
      "0  one best crichton novel sphere michael crichto...      1\n",
      "1  medicine future z accomplished heart surgeon f...      1\n",
      "2  beautiful gorgeous network comic book contains...      1\n",
      "3  lover robicheaux book lover robicheaux demon s...      1\n",
      "4  excellent broad survey development civilizatio...      1\n"
     ]
    }
   ],
   "source": [
    "import pandas as pd\n",
    "\n",
    "from sklearn.model_selection import train_test_split\n",
    "from sklearn.feature_extraction.text import CountVectorizer\n",
    "from sklearn.preprocessing import LabelEncoder\n",
    "\n",
    "df = pd.read_csv('reviews_dataset2.csv')\n",
    "print(df.head())\n",
    "\n",
    "texts = df['text'].values\n",
    "labels = df['label'].values\n",
    "\n",
    "vectorizer = CountVectorizer()\n",
    "X = vectorizer.fit_transform(texts).toarray()\n",
    "\n",
    "label_encoder = LabelEncoder()\n",
    "Y = label_encoder.fit_transform(labels)\n",
    "\n",
    "x_train, x_test, y_train, y_test = train_test_split(X, Y, test_size=0.3, random_state=42)"
   ]
  },
  {
   "cell_type": "code",
   "execution_count": null,
   "id": "1d513490-fd02-4a96-ba15-2e4f3c636e4a",
   "metadata": {},
   "outputs": [],
   "source": [
    "# simple neuron network\n",
    "\n",
    "import pandas as pd\n",
    "import torch\n",
    "import torch.nn as nn\n",
    "import torch.optim as optim\n",
    "\n",
    "# create\n",
    "class SimpleNN(nn.Module):\n",
    "    def __init__(self, input_dim, hidden_dim, output_dim):\n",
    "        super(SimpleNN, self).__init__()\n",
    "        self.fc1 = nn.Linear(input_dim, hidden_dim)\n",
    "        self.fc2 = nn.Linear(hidden_dim, output_dim)\n",
    "        self.relu = nn.ReLU()\n",
    "        self.softmax = nn.Softmax(dim=1)\n",
    "    \n",
    "    def forward(self, x):\n",
    "        x = self.fc1(x)\n",
    "        x = self.relu(x)\n",
    "        x = self.fc2(x)\n",
    "        return self.softmax(x)\n",
    "\n",
    "model = SimpleNN(input_dim=x_train.shape[1], hidden_dim=1000, output_dim=len(set(Y)))\n",
    "\n",
    "criterion = nn.CrossEntropyLoss()\n",
    "optimizer = optim.Adam(model.parameters(), lr=0.001)\n",
    "\n",
    "# train\n",
    "for epoch in range(100):\n",
    "    model.train()\n",
    "    inputs = torch.tensor(x_train, dtype=torch.float32)\n",
    "    targets = torch.tensor(y_train, dtype=torch.long)\n",
    "\n",
    "    optimizer.zero_grad()\n",
    "    outputs = model(inputs)\n",
    "    loss = criterion(outputs, targets)\n",
    "    loss.backward()\n",
    "    optimizer.step()\n",
    "\n",
    "    print(f'Epoch {epoch+1}, Loss: {loss.item()}')\n",
    "\n",
    "# estimating\n",
    "model.eval()\n",
    "with torch.no_grad():\n",
    "    inputs = torch.tensor(_test, dtype=torch.float32)\n",
    "    targets = torch.tensor(y_test, dtype=torch.long)\n",
    "    outputs = model(inputs)\n",
    "    _, predicted = torch.max(outputs, 1)\n",
    "    accuracy = (predicted == targets).float().mean()\n",
    "    print(f'Test Accuracy: {accuracy.item()}')"
   ]
  }
 ],
 "metadata": {
  "kernelspec": {
   "display_name": "Python 3 (ipykernel)",
   "language": "python",
   "name": "python3"
  },
  "language_info": {
   "codemirror_mode": {
    "name": "ipython",
    "version": 3
   },
   "file_extension": ".py",
   "mimetype": "text/x-python",
   "name": "python",
   "nbconvert_exporter": "python",
   "pygments_lexer": "ipython3",
   "version": "3.12.3"
  }
 },
 "nbformat": 4,
 "nbformat_minor": 5
}
